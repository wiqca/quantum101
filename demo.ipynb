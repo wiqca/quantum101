{
 "cells": [
  {
   "cell_type": "markdown",
   "metadata": {
    "slideshow": {
     "slide_type": "slide"
    }
   },
   "source": [
    "# Quantum Computing 101: Hello Quantum World!\n",
    "### [WIQCA Seattle Meetup](https://www.wiqca.dev/events/quantum101-helloquantumworld.html) #\n",
    "\n",
    "Sarah Kaiser |  @crazy4pi314 |  April 1, 2020\n",
    "\n",
    "---\n",
    "\n",
    "Talk slides/Jupyter Notebook can be found at [bit.ly/wiqca-quantum101](https://bit.ly/wiqca-quantum101)\n",
    "\n"
   ]
  },
  {
   "cell_type": "markdown",
   "metadata": {
    "slideshow": {
     "slide_type": "skip"
    }
   },
   "source": [
    "### Abstract\n",
    "Quantum computing is an exciting and growing field. To realize quantum applications, we need a new generation of programmers ready to leverage quantum technologies. As one of the most actively used languages in scientific computing, Python lets us reduce barriers to engaging new learners in quantum computing.\n",
    "\n",
    "In this talk, Sarah will introduce quantum computing hands-on, and will show how Python can be used to work new quantum programming languages like Q#, an open-source high-level language for quantum computing from Microsoft. Using Python and Q# together, Sarah will demo core quantum computing, and will share resources on how you can get started learning and developing for a quantum computer, and how you can join the growing quantum community!\n",
    "\n",
    "---\n",
    "\n",
    "#### Installation instructions for running this notebook on your machine can be found [here](https://docs.microsoft.com/en-ca/quantum/install-guide/python?view=qsharp-preview)."
   ]
  },
  {
   "cell_type": "markdown",
   "metadata": {
    "slideshow": {
     "slide_type": "skip"
    }
   },
   "source": [
    "## `about_me.md`\n",
    "\n",
    "\n",
    "<figure style=\"text-align: center;\">\n",
    "    <img src=\"media/about_me.png\" width=\"70%\">\n",
    "    <caption>\n",
    "      <br>  \n",
    "        <strong></strong>\n",
    "    </caption>\n",
    "</figure>\n",
    "\n"
   ]
  },
  {
   "cell_type": "markdown",
   "metadata": {
    "slideshow": {
     "slide_type": "slide"
    }
   },
   "source": [
    "## 💪Goals💪"
   ]
  },
  {
   "cell_type": "markdown",
   "metadata": {
    "slideshow": {
     "slide_type": "-"
    }
   },
   "source": [
    " I want to show **you**:\n",
    " \n",
    " - the skills you already have are a great start for quantum development\n",
    " - that you can learn the rest you need as you go\n",
    " \n",
    "in other words... \n",
    "\n",
    "_You can jump into writing code for a quantum computer today!_"
   ]
  },
  {
   "cell_type": "markdown",
   "metadata": {
    "slideshow": {
     "slide_type": "slide"
    }
   },
   "source": [
    "# Quantum Computing"
   ]
  },
  {
   "cell_type": "markdown",
   "metadata": {
    "slideshow": {
     "slide_type": "slide"
    }
   },
   "source": [
    "## Quantum computers *are not* :\n",
    "\n",
    " 🦇 spooky \n",
    " \n",
    " 🙃 weird \n",
    " \n",
    " 💞 in two places at once \n",
    " \n",
    " 💻 going to replace your regular computer \n",
    " \n",
    " 🙀 cats (dead or alive)"
   ]
  },
  {
   "cell_type": "markdown",
   "metadata": {
    "slideshow": {
     "slide_type": "slide"
    }
   },
   "source": [
    "## Quantum programs are classical programs\n",
    "\n",
    "- Quantum programs are just classical programs that emit instructions for quantum hardware.\n",
    "\n",
    "```c#\n",
    "operation SayHello(name: String) : Unit {\n",
    "    Message($\"Hello World! Nice to meet you, {name}!\");\n",
    "}\n",
    "```\n"
   ]
  },
  {
   "cell_type": "markdown",
   "metadata": {
    "slideshow": {
     "slide_type": "slide"
    }
   },
   "source": [
    "## Quantum computers *are* : \n",
    "\n",
    "🚄🖥 hardware accelerators (think GPUs)\n",
    "\n",
    "<br>\n",
    "\n",
    "<figure style=\"text-align: center;\">\n",
    "    <img src=\"media/what-is-qc.png\" width=\"70%\">\n",
    "    <caption>\n",
    "      <br>  \n",
    "        <strong></strong>\n",
    "    </caption>\n",
    "</figure>"
   ]
  },
  {
   "cell_type": "markdown",
   "metadata": {
    "slideshow": {
     "slide_type": "slide"
    }
   },
   "source": [
    "## How can Python help?\n",
    "\n",
    "There are **tons** of packages that can help you learn quantum computing, as well as write code for quantum computers.\n",
    "\n",
    "The one we will look at today is:\n",
    "\n",
    "- [`qsharp`](https://docs.microsoft.com/en-us/quantum/?view=qsharp-preview) - Python interoperabilty with Q#, a domain-specific programming language for quantum computers\n"
   ]
  },
  {
   "cell_type": "markdown",
   "metadata": {
    "slideshow": {
     "slide_type": "slide"
    }
   },
   "source": [
    "## Python + Q# = 💖\n",
    "\n",
    "- Q# is a domain-specific programming language, included in the [Quantum Development Kit](https://docs.microsoft.com/en-us/quantum/install-guide/?view=qsharp-preview) (QDK) which is a set of development tools used for expressing quantum algorithms.\n",
    "- ❤ Open source ❤\n",
    "- Allows you to write code the same way you think about it (high level of abstraction)\n",
    " <figure style=\"text-align: center;\">\n",
    "    <img src=\"media/qsharp_software_stack.png\" width=\"70%\">\n",
    "    <caption>\n",
    "      <br>  \n",
    "        <strong></strong>\n",
    "    </caption>\n",
    "</figure>"
   ]
  },
  {
   "cell_type": "markdown",
   "metadata": {
    "slideshow": {
     "slide_type": "slide"
    }
   },
   "source": [
    "#### For this talk we will be using a simulator target machine:\n",
    "\n",
    "<figure style=\"text-align: center;\">\n",
    "    <img src=\"media/qsharp_software_stack_highlight.png\" width=\"70%\">\n",
    "    <caption>\n",
    "      <br>  \n",
    "        <strong></strong>\n",
    "    </caption>\n",
    "</figure>\n"
   ]
  },
  {
   "cell_type": "markdown",
   "metadata": {
    "slideshow": {
     "slide_type": "slide"
    }
   },
   "source": [
    "## What skills can help you program a quantum computer?\n",
    "\n",
    "<figure style=\"text-align: center;\">\n",
    "    <img src=\"media/danger.png\" width=\"50%\">\n",
    "    <caption>\n",
    "      <br>  \n",
    "        <strong></strong>\n",
    "    </caption>\n",
    "</figure>\n"
   ]
  },
  {
   "cell_type": "markdown",
   "metadata": {
    "slideshow": {
     "slide_type": "slide"
    }
   },
   "source": [
    "## What skills can help you program a quantum computer?\n",
    "\n",
    "\n",
    "- Version control\n",
    "- Open source community tools (Pull requests, filing issues, etc)\n",
    "- Reading documentation\n",
    "- A bit of linear algebra, similar to data science or ML\n",
    "- A bit of math like complex numbers and trigonometry\n",
    "\n"
   ]
  },
  {
   "cell_type": "markdown",
   "metadata": {
    "slideshow": {
     "slide_type": "slide"
    }
   },
   "source": [
    "# ⌚Demo Time⌚"
   ]
  },
  {
   "cell_type": "markdown",
   "metadata": {
    "slideshow": {
     "slide_type": "-"
    }
   },
   "source": [
    "Let's get started with Python by loading the package for Q# interoperability called `qsharp`."
   ]
  },
  {
   "cell_type": "code",
   "execution_count": null,
   "metadata": {
    "slideshow": {
     "slide_type": "-"
    }
   },
   "outputs": [],
   "source": [
    "import qsharp\n",
    "qsharp.component_versions()"
   ]
  },
  {
   "cell_type": "code",
   "execution_count": null,
   "metadata": {},
   "outputs": [],
   "source": [
    "qsharp.reload()"
   ]
  },
  {
   "cell_type": "markdown",
   "metadata": {
    "slideshow": {
     "slide_type": "slide"
    }
   },
   "source": [
    "# Task: Quantum random numbers\n",
    "\n",
    "We want to use a truly* random source to generate a list of random bits like this:"
   ]
  },
  {
   "cell_type": "code",
   "execution_count": null,
   "metadata": {
    "slideshow": {
     "slide_type": "-"
    }
   },
   "outputs": [],
   "source": [
    "randomness = [0,1,0,0,1,1,0,1,0,1]"
   ]
  },
  {
   "cell_type": "markdown",
   "metadata": {},
   "source": [
    "_Bonus points_ : share this randomness without sending the classical bits (send quantum information instead)\n",
    "\n",
    "<tiny>*still simulated here so still pseudo-random</tiny>"
   ]
  },
  {
   "cell_type": "markdown",
   "metadata": {
    "slideshow": {
     "slide_type": "slide"
    }
   },
   "source": [
    "## Generating _quantum_ random numbers with Q\\# ##\n",
    "\n",
    "```c#\n",
    "// demo.qs\n",
    "namespace Wiqca.Demo {\n",
    "    operation Qrng() : Result {\n",
    "        using (qubit = Qubit()) {   // Preparing the qubit\n",
    "            H(qubit);               // Do operation H\n",
    "            return MResetZ(qubit);  // Measure and reset qubit\n",
    "        }\n",
    "    }\n",
    "}\n",
    "```\n",
    "How can we dive in to what is going on here?"
   ]
  },
  {
   "cell_type": "markdown",
   "metadata": {
    "slideshow": {
     "slide_type": "slide"
    }
   },
   "source": [
    "### Let's load the Q# code from Python!"
   ]
  },
  {
   "cell_type": "code",
   "execution_count": null,
   "metadata": {
    "slideshow": {
     "slide_type": "-"
    }
   },
   "outputs": [],
   "source": [
    "from Wiqca.Demo import Qrng"
   ]
  },
  {
   "cell_type": "markdown",
   "metadata": {
    "slideshow": {
     "slide_type": "slide"
    }
   },
   "source": [
    "## Understanding `Qrng`\n",
    "\n",
    "We can use built-in documentation strings, just like we can with Python functions."
   ]
  },
  {
   "cell_type": "code",
   "execution_count": null,
   "metadata": {
    "slideshow": {
     "slide_type": "-"
    }
   },
   "outputs": [],
   "source": [
    "?Qrng"
   ]
  },
  {
   "cell_type": "markdown",
   "metadata": {
    "slideshow": {
     "slide_type": "fragment"
    }
   },
   "source": [
    "That tells us what we can **do** with `Qrng`:"
   ]
  },
  {
   "cell_type": "code",
   "execution_count": null,
   "metadata": {
    "slideshow": {
     "slide_type": "fragment"
    }
   },
   "outputs": [],
   "source": [
    "[Qrng.simulate() for _ in range(10)]"
   ]
  },
  {
   "cell_type": "markdown",
   "metadata": {
    "slideshow": {
     "slide_type": "slide"
    }
   },
   "source": [
    "## Hold up: What is a qubit?"
   ]
  },
  {
   "cell_type": "markdown",
   "metadata": {
    "slideshow": {
     "slide_type": "-"
    }
   },
   "source": [
    "- Answer: a single unit of information in a quantum computer \n",
    "    - _quantum + bit = qubit_"
   ]
  },
  {
   "cell_type": "markdown",
   "metadata": {
    "slideshow": {
     "slide_type": "fragment"
    }
   },
   "source": [
    "- We can predict what a single qubit will do by using a column vector of 2 complex numbers* like this:\n",
    "\n",
    "<!--$\\left|{x}\\right\\rangle = \\left[\\begin{matrix} 1 + 0\\times i \\\\0 + 0\\times i \\end{matrix}\\right]$\n",
    "\n",
    "\n",
    "-->"
   ]
  },
  {
   "cell_type": "code",
   "execution_count": null,
   "metadata": {
    "slideshow": {
     "slide_type": "-"
    }
   },
   "outputs": [],
   "source": [
    "import numpy as np\n",
    "\n",
    "qubit = np.array([[1],[0]],dtype=complex)\n",
    "print(qubit)"
   ]
  },
  {
   "cell_type": "markdown",
   "metadata": {
    "slideshow": {
     "slide_type": "slide"
    }
   },
   "source": [
    "## What can we _do_ with a qubit?"
   ]
  },
  {
   "cell_type": "markdown",
   "metadata": {
    "slideshow": {
     "slide_type": "-"
    }
   },
   "source": [
    "Similar to classical bits on your computer, you can do three types of things with qubits:\n",
    "\n",
    "- Prepare a qubit\n",
    "- Do operations with a qubit\n",
    "- Measure a qubit : returns a 0 or 1\n",
    "\n"
   ]
  },
  {
   "cell_type": "markdown",
   "metadata": {
    "slideshow": {
     "slide_type": "slide"
    }
   },
   "source": [
    "```c#\n",
    "// demo.qs\n",
    "namespace Wiqca.Demo {\n",
    "    operation Qrng() : Result {\n",
    "        using (qubit = Qubit()) {   // Preparing \n",
    "            H(qubit);               // Operation \n",
    "            return MResetZ(qubit);  // Measure and reset \n",
    "        }\n",
    "    }\n",
    "}\n",
    "```"
   ]
  },
  {
   "cell_type": "markdown",
   "metadata": {
    "slideshow": {
     "slide_type": "slide"
    }
   },
   "source": [
    "### How can we \"get\" a qubit?"
   ]
  },
  {
   "cell_type": "code",
   "execution_count": null,
   "metadata": {
    "slideshow": {
     "slide_type": "-"
    }
   },
   "outputs": [],
   "source": [
    "prepare_qubit = qsharp.compile(\"\"\"\n",
    "open Microsoft.Quantum.Diagnostics;\n",
    "\n",
    "operation PrepareQubit() : Unit {\n",
    "    using (qubit = Qubit()) {     // We want 1 qubit to use for our task\n",
    "        DumpMachine();            // Print out what the simulator is keeping a record of\n",
    "    }\n",
    "}\n",
    "\"\"\")"
   ]
  },
  {
   "cell_type": "code",
   "execution_count": null,
   "metadata": {
    "slideshow": {
     "slide_type": "-"
    }
   },
   "outputs": [],
   "source": [
    "prepare_qubit.simulate()"
   ]
  },
  {
   "cell_type": "markdown",
   "metadata": {
    "slideshow": {
     "slide_type": "skip"
    }
   },
   "source": [
    "You can read the above output like the vector we wrote above, where the first column is the index, the second is the real part of the vector at that position, and the second is the complex part of that vector entry."
   ]
  },
  {
   "cell_type": "markdown",
   "metadata": {
    "slideshow": {
     "slide_type": "slide"
    }
   },
   "source": [
    "What does `DumpMachine` tell us?\n",
    "\n",
    "```\n",
    "|0⟩\t1 + 0𝑖\n",
    "|1⟩\t0 + 0𝑖\n",
    "```\n",
    "\n",
    "This is the same state we saw earlier!"
   ]
  },
  {
   "cell_type": "code",
   "execution_count": null,
   "metadata": {
    "slideshow": {
     "slide_type": "-"
    }
   },
   "outputs": [],
   "source": [
    "print(qubit)"
   ]
  },
  {
   "cell_type": "markdown",
   "metadata": {
    "slideshow": {
     "slide_type": "slide"
    }
   },
   "source": [
    "### Learning quantum operations by inspection"
   ]
  },
  {
   "cell_type": "markdown",
   "metadata": {
    "slideshow": {
     "slide_type": "-"
    }
   },
   "source": [
    "We can use `DumpMachine` again to understand see what the `H` operation does to our qubit."
   ]
  },
  {
   "cell_type": "code",
   "execution_count": null,
   "metadata": {
    "slideshow": {
     "slide_type": "-"
    }
   },
   "outputs": [],
   "source": [
    "from Wiqca.Demo import QrngWithDiagnostics\n",
    "\n",
    "QrngWithDiagnostics.simulate()"
   ]
  },
  {
   "cell_type": "markdown",
   "metadata": {
    "slideshow": {
     "slide_type": "slide"
    }
   },
   "source": [
    "The operation `H` on our qubit puts our simulated qubit in **superposition**\n",
    "\n",
    "```\n",
    "After using H(qubit) to create a superposition state:\n",
    "|0⟩\t0.7071067811865476 + 0𝑖\n",
    "|1⟩\t0.7071067811865476 + 0𝑖\n",
    "```\n",
    "\n",
    "#### 🚨Note: `DumpMachine` is showing the information the simulator has!🚨"
   ]
  },
  {
   "cell_type": "markdown",
   "metadata": {
    "slideshow": {
     "slide_type": "slide"
    }
   },
   "source": [
    "# How about more qubits?!\n",
    "\n",
    "\n",
    "\n",
    "<figure style=\"text-align: center;\">\n",
    "    <img src=\"https://disneygenderevolution.files.wordpress.com/2014/12/ariel-the-little-mermaid-i-want-more-gif.gif\" width=\"60%\">\n",
    "    <caption>\n",
    "      <br>  \n",
    "        <strong></strong>\n",
    "    </caption>\n",
    "</figure>"
   ]
  },
  {
   "cell_type": "markdown",
   "metadata": {
    "slideshow": {
     "slide_type": "slide"
    }
   },
   "source": [
    "## Operations with multiple qubits can create 💕entanglement💕"
   ]
  },
  {
   "cell_type": "markdown",
   "metadata": {
    "slideshow": {
     "slide_type": "-"
    }
   },
   "source": [
    "Using Q# with Python, we can also explore other quantum development tools, like **entanglement**."
   ]
  },
  {
   "cell_type": "code",
   "execution_count": null,
   "metadata": {
    "slideshow": {
     "slide_type": "-"
    }
   },
   "outputs": [],
   "source": [
    "from Wiqca.Demo import EntangleQubits\n",
    "results = EntangleQubits.simulate(verbose=True)"
   ]
  },
  {
   "cell_type": "markdown",
   "metadata": {
    "slideshow": {
     "slide_type": "slide"
    }
   },
   "source": [
    "What does `DumpRegister` tell us this time?\n",
    "```\n",
    "|0⟩\t0.7071067811865476 + 0𝑖\n",
    "|1⟩\t0 + 0𝑖\n",
    "|2⟩\t0 + 0𝑖\n",
    "|3⟩\t0.7071067811865476 + 0𝑖\n",
    "```\n",
    "- ∣0❭➡ measuring both qubits give you (0,0)\n",
    "- ∣3❭➡ measuring both qubits give you (1,1)"
   ]
  },
  {
   "cell_type": "markdown",
   "metadata": {
    "slideshow": {
     "slide_type": "slide"
    }
   },
   "source": [
    "No matter how many times we run, both measurements are equal to each other!"
   ]
  },
  {
   "cell_type": "code",
   "execution_count": null,
   "metadata": {
    "slideshow": {
     "slide_type": "-"
    }
   },
   "outputs": [],
   "source": [
    "[EntangleQubits.simulate(verbose=False) for _ in range(10)]"
   ]
  },
  {
   "cell_type": "markdown",
   "metadata": {
    "slideshow": {
     "slide_type": "slide"
    }
   },
   "source": [
    "## Next: share the randomness!\n",
    "\n",
    "- If you **entangle** two qubits and then share one, then you both measure you will have the same random number.\n",
    "- This can be useful for cryptographic protocols, like quantum key distribution!\n"
   ]
  },
  {
   "cell_type": "code",
   "execution_count": null,
   "metadata": {
    "slideshow": {
     "slide_type": "-"
    }
   },
   "outputs": [],
   "source": [
    "[EntangleQubits.simulate(verbose=False) for _ in range(10)]"
   ]
  },
  {
   "cell_type": "markdown",
   "metadata": {
    "slideshow": {
     "slide_type": "slide"
    }
   },
   "source": [
    "## Beam me up: Quantum teleportation \n",
    "\n",
    "- The most basic example of using entanglement in a quantum algoritihm is _Teleportation_.\n",
    "- This is similar to move operators and is used to move quantum data around.\n"
   ]
  },
  {
   "cell_type": "code",
   "execution_count": null,
   "metadata": {
    "slideshow": {
     "slide_type": "-"
    }
   },
   "outputs": [],
   "source": [
    "from Wiqca.Demo import TeleportClassicalMessage\n",
    "TeleportClassicalMessage.simulate(message=1)"
   ]
  },
  {
   "cell_type": "markdown",
   "metadata": {
    "slideshow": {
     "slide_type": "slide"
    }
   },
   "source": [
    "```\n",
    "operation TeleportClassicalMessage (message : Bool) : Bool {\n",
    "    // Ask for some qubits that we can use to teleport.\n",
    "    using ((msg, target) = (Qubit(), Qubit())) {\n",
    "\n",
    "        // Encode the message we want to send.\n",
    "        if (message) {\n",
    "            X(msg);\n",
    "        }\n",
    "\n",
    "        // Use the operation we defined above.\n",
    "        Teleport(msg, target);\n",
    "\n",
    "        // Check what message was sent.\n",
    "        return MResetZ(target) == One;\n",
    "    }\n",
    "}\n",
    "```"
   ]
  },
  {
   "cell_type": "markdown",
   "metadata": {
    "slideshow": {
     "slide_type": "slide"
    }
   },
   "source": [
    "\n",
    "```\n",
    "operation Teleport (msg : Qubit, target : Qubit) : Unit {\n",
    "    using (register = Qubit()) {\n",
    "        // Create some entanglement that we can use to send our message.\n",
    "        H(register);\n",
    "        CNOT(register, target);\n",
    "\n",
    "        // Encode the message into the entangled pair.\n",
    "        CNOT(msg, register);\n",
    "        H(msg);\n",
    "\n",
    "        // Measure the qubits to extract the classical data \n",
    "        if (MResetZ(msg) == One) { Z(target); }\n",
    "        \n",
    "        if (IsResultOne(MResetZ(register))) { X(target); }\n",
    "    }\n",
    "}\n",
    "```"
   ]
  },
  {
   "cell_type": "code",
   "execution_count": null,
   "metadata": {
    "slideshow": {
     "slide_type": "-"
    }
   },
   "outputs": [],
   "source": [
    "random_numbers = [Qrng.simulate() for _ in range(10)]\n",
    "[(data, TeleportClassicalMessage.simulate(message=data)) for data in random_numbers]\n"
   ]
  },
  {
   "cell_type": "markdown",
   "metadata": {
    "slideshow": {
     "slide_type": "slide"
    }
   },
   "source": [
    "![](https://media.tenor.com/images/f9fd6fdf307421f068d82cd050eae236/tenor.gif)"
   ]
  },
  {
   "cell_type": "markdown",
   "metadata": {
    "slideshow": {
     "slide_type": "slide"
    }
   },
   "source": [
    "\n",
    "## Toy quantum algorithm: Deutsch–Jozsa "
   ]
  },
  {
   "cell_type": "markdown",
   "metadata": {
    "slideshow": {
     "slide_type": "-"
    }
   },
   "source": [
    "_If I had a function that had one bit input and output, how many different options would I have?_"
   ]
  },
  {
   "cell_type": "markdown",
   "metadata": {
    "slideshow": {
     "slide_type": "-"
    }
   },
   "source": [
    "<figure style=\"text-align: center;\">\n",
    "    <img src=\"media/twobit.png\" width=\"50%\">\n",
    "    <caption>\n",
    "      <br>  \n",
    "        <strong>Diagram of all possible one bit functions</strong>\n",
    "    </caption>\n",
    "</figure>"
   ]
  },
  {
   "cell_type": "markdown",
   "metadata": {
    "slideshow": {
     "slide_type": "slide"
    }
   },
   "source": [
    ">#### Deutsch–Jozsa Algorithim ####\n",
    ">**Problem statement:**\n",
    ">\n",
    ">* **GIVEN:** A black box quantum operation which takes 1 input bit and produces either a 0 or a 1 as output. We are promised that the box is either _constant_ or _balanced_. \n",
    ">\t\t\t\t\t\n",
    ">* **GOAL:** to determine if the box output is _constant_ or _balanced_ by evaluating sample inputs.\n",
    "\n",
    "Deutsch–Jozsa can do this in **one** query to the black box!"
   ]
  },
  {
   "cell_type": "markdown",
   "metadata": {
    "slideshow": {
     "slide_type": "slide"
    }
   },
   "source": [
    "<figure style=\"text-align: center;\">\n",
    "    <img src=\"media/twobitDJ.png\" width=\"40%\">\n",
    "    <caption>\n",
    "      <br>  \n",
    "        <strong>Global property of the one bit functions: Constant or Balanced</strong>\n",
    "    </caption>\n",
    "</figure>"
   ]
  },
  {
   "cell_type": "markdown",
   "metadata": {
    "slideshow": {
     "slide_type": "slide"
    }
   },
   "source": [
    "## Let's load some Q\\# code from the directory..."
   ]
  },
  {
   "cell_type": "code",
   "execution_count": null,
   "metadata": {
    "slideshow": {
     "slide_type": "-"
    }
   },
   "outputs": [],
   "source": [
    "is_zero_oracle_balanced = qsharp.compile(\"\"\"\n",
    "open Wiqca.DeutschJozsa;\n",
    "\n",
    "operation IsZeroOracleBalanced(): Bool {\n",
    "    return IsOracleBalanced(ZeroOracle);\n",
    "}\n",
    "\"\"\")"
   ]
  },
  {
   "cell_type": "code",
   "execution_count": null,
   "metadata": {
    "slideshow": {
     "slide_type": "-"
    }
   },
   "outputs": [],
   "source": [
    "is_zero_oracle_balanced.simulate()"
   ]
  },
  {
   "cell_type": "markdown",
   "metadata": {
    "slideshow": {
     "slide_type": "slide"
    }
   },
   "source": [
    "<figure style=\"text-align: center;\">\n",
    "    <img src=\"media/twobitDJ.png\" width=\"40%\">\n",
    "    <caption>\n",
    "      <br>  \n",
    "        <strong>Global property of the one bit functions: Constant or Balanced</strong>\n",
    "    </caption>\n",
    "</figure>"
   ]
  },
  {
   "cell_type": "code",
   "execution_count": null,
   "metadata": {
    "slideshow": {
     "slide_type": "slide"
    }
   },
   "outputs": [],
   "source": [
    "is_not_oracle_balanced = qsharp.compile(\"\"\"\n",
    "open Wiqca.DeutschJozsa;\n",
    "\n",
    "operation IsNotOracleBalanced(): Bool {\n",
    "    return IsOracleBalanced(NotOracle);\n",
    "}\n",
    "\"\"\")"
   ]
  },
  {
   "cell_type": "code",
   "execution_count": null,
   "metadata": {
    "slideshow": {
     "slide_type": "-"
    }
   },
   "outputs": [],
   "source": [
    "is_not_oracle_balanced.simulate()"
   ]
  },
  {
   "cell_type": "markdown",
   "metadata": {
    "slideshow": {
     "slide_type": "slide"
    }
   },
   "source": [
    "## Putting it all together: One query, one answer!"
   ]
  },
  {
   "cell_type": "code",
   "execution_count": null,
   "metadata": {
    "slideshow": {
     "slide_type": "-"
    }
   },
   "outputs": [],
   "source": [
    "from Wiqca.DeutschJozsa import RunDeutschJozsaAlgorithm"
   ]
  },
  {
   "cell_type": "code",
   "execution_count": null,
   "metadata": {
    "slideshow": {
     "slide_type": "-"
    }
   },
   "outputs": [],
   "source": [
    "RunDeutschJozsaAlgorithm.simulate(verbose=False)"
   ]
  },
  {
   "cell_type": "code",
   "execution_count": null,
   "metadata": {
    "slideshow": {
     "slide_type": "-"
    }
   },
   "outputs": [],
   "source": [
    "RunDeutschJozsaAlgorithm.simulate(verbose=True)"
   ]
  },
  {
   "cell_type": "markdown",
   "metadata": {
    "slideshow": {
     "slide_type": "slide"
    }
   },
   "source": [
    "# 📝 Review time 📝\n",
    "\n",
    "## Tasks\n",
    "- Make random numbers ✔\n",
    "- Share classical data with quantum resources ✔\n",
    "- Use the Deutsch–Jozsa quantum algorithim to learn properties of a function with a single call ✔\n",
    "\n",
    "## Concepts\n",
    "- Quantum computers use _superposition_ and _entanglement_ to enable their unique abilities ✔\n",
    "- Python + Q# tools and skills to learn quantum computing ✔"
   ]
  },
  {
   "cell_type": "markdown",
   "metadata": {
    "slideshow": {
     "slide_type": "slide"
    }
   },
   "source": [
    "## What happens now?\n",
    "\n",
    "- Try Q# + Python for yourself!\n",
    "    - Learn by teaching\n",
    "    - Write blog posts\n",
    "    - Make tutorials\n",
    "- Make the community better than you found it!\n",
    "    - Contribute to docs\n",
    "    - Fix bugs/File issues\n",
    "- Act intentionally to include everyone and expand the community 💖"
   ]
  },
  {
   "cell_type": "markdown",
   "metadata": {
    "slideshow": {
     "slide_type": "slide"
    }
   },
   "source": [
    "## 👩‍💻Q# Quantum programming resources!👩‍💻\n",
    "\n",
    "- Community projects:\n",
    "    - [qsharp.community](https://qsharp.community/)\n",
    "    - [quantumcomputing.stackexchange.com](https://quantumcomputing.stackexchange.com/)\n",
    "- Q# Documentation: [docs.microsoft.com/quantum](docs.microsoft.com/quantum)\n",
    "- Books like [_Learn Quantum Computing with Python and Q#_](http://www.manning.com/?a_aid=learn-qc-kaiser) in early access\n",
    "     - use **ctwmvp20** for 40% off at [bit.ly/qsharp-book](bit.ly/qsharp-book)\n",
    "- Seattle meetup group: **✨WIQCA✨**\n",
    "    - Please join the Women in quantum computing and applications meetup page! [bit.ly/wiqca-email](http://bit.ly/wiqca-email)\n",
    "    \n",
    "    \n",
    "### The Quantum 101 series will continue in May, watch the Meetup page or wiqca.dev for details!\n",
    "\n",
    "\n"
   ]
  },
  {
   "cell_type": "markdown",
   "metadata": {
    "slideshow": {
     "slide_type": "slide"
    }
   },
   "source": [
    "# Thank you!\n",
    "\n",
    "## Tweet at @wiqca or hop on the slack if you want to chat in the meantime 🔮💖"
   ]
  },
  {
   "cell_type": "markdown",
   "metadata": {
    "slideshow": {
     "slide_type": "skip"
    }
   },
   "source": [
    "---\n",
    "\n",
    "## Helpful diagnostics :)"
   ]
  },
  {
   "cell_type": "code",
   "execution_count": null,
   "metadata": {
    "slideshow": {
     "slide_type": "skip"
    }
   },
   "outputs": [],
   "source": [
    "for component, version in sorted(qsharp.component_versions().items(), key=lambda x: x[0]):\n",
    "    print(f\"{component:20}{version}\")"
   ]
  },
  {
   "cell_type": "code",
   "execution_count": null,
   "metadata": {
    "slideshow": {
     "slide_type": "skip"
    }
   },
   "outputs": [],
   "source": [
    "import sys\n",
    "print(sys.version)"
   ]
  }
 ],
 "metadata": {
  "celltoolbar": "Slideshow",
  "kernelspec": {
   "display_name": "Python 3",
   "language": "python",
   "name": "python3"
  },
  "language_info": {
   "codemirror_mode": {
    "name": "ipython",
    "version": 3
   },
   "file_extension": ".py",
   "mimetype": "text/x-python",
   "name": "python",
   "nbconvert_exporter": "python",
   "pygments_lexer": "ipython3",
   "version": "3.6.10"
  },
  "livereveal": {
   "autolaunch": true,
   "scroll": true
  },
  "rise": {
   "controls": false,
   "footer": "<h2>@crazy4pi314</h2>"
  }
 },
 "nbformat": 4,
 "nbformat_minor": 2
}
